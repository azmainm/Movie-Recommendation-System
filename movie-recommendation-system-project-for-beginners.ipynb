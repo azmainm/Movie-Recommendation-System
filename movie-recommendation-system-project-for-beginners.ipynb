{
 "cells": [
  {
   "cell_type": "markdown",
   "id": "a6c169a8",
   "metadata": {
    "papermill": {
     "duration": 0.010363,
     "end_time": "2022-06-24T16:46:52.711192",
     "exception": false,
     "start_time": "2022-06-24T16:46:52.700829",
     "status": "completed"
    },
    "tags": []
   },
   "source": [
    "# Introduction\n"
   ]
  },
  {
   "cell_type": "markdown",
   "id": "57e4b3ff",
   "metadata": {
    "papermill": {
     "duration": 0.009272,
     "end_time": "2022-06-24T16:46:52.730487",
     "exception": false,
     "start_time": "2022-06-24T16:46:52.721215",
     "status": "completed"
    },
    "tags": []
   },
   "source": [
    "**This notebook is a guided machine learning project for beginners. This is one of the most important and popular applications of machine learning. This application is used by almost everyone that has a device now, and has subscriptions on streaming services like Netflix, Amazon Prime, etc. \n",
    "For this project, the user will input a movie's name and the system will recommend more similar movies to them.\n",
    "There will be comments every step of the way so there is a clear understanding.**"
   ]
  },
  {
   "cell_type": "markdown",
   "id": "079e975a",
   "metadata": {
    "papermill": {
     "duration": 0.00881,
     "end_time": "2022-06-24T16:46:52.748451",
     "exception": false,
     "start_time": "2022-06-24T16:46:52.739641",
     "status": "completed"
    },
    "tags": []
   },
   "source": [
    "# Types of Recommendation Systems"
   ]
  },
  {
   "cell_type": "markdown",
   "id": "cb5c1ca7",
   "metadata": {
    "papermill": {
     "duration": 0.008795,
     "end_time": "2022-06-24T16:46:52.766324",
     "exception": false,
     "start_time": "2022-06-24T16:46:52.757529",
     "status": "completed"
    },
    "tags": []
   },
   "source": [
    "**Mainly, there are three types of recommendation engines; collaborative filtering, content-based filtering and a hybrid of the two.**\n",
    "\n",
    "* **Collaborative filtering**: Focuses on collecting and analyzing data on user behavior, activities, and preferences, to predict what a person will like, based on their **similarity to other users**.\n",
    "* **Content-based filtering**: Works on the principle that **if you like a particular item, you will also like this other item**. To make recommendations, algorithms use a profile of the customer’s preferences and a description of an item (genre, product type, color, word length) to work out the similarity of items. (We will use this for the project)\n",
    "* **Hybrid recommendation engine**: Looks at **both** the meta (collaborative) data and the transactional (content-based) data. Because of this, it outperforms both."
   ]
  },
  {
   "cell_type": "markdown",
   "id": "2e25fc11",
   "metadata": {
    "papermill": {
     "duration": 0.009072,
     "end_time": "2022-06-24T16:46:52.784497",
     "exception": false,
     "start_time": "2022-06-24T16:46:52.775425",
     "status": "completed"
    },
    "tags": []
   },
   "source": [
    "# Importing libraries and dataset"
   ]
  },
  {
   "cell_type": "code",
   "execution_count": 1,
   "id": "1598bc7e",
   "metadata": {
    "_cell_guid": "b1076dfc-b9ad-4769-8c92-a6c4dae69d19",
    "_uuid": "8f2839f25d086af736a60e9eeb907d3b93b6e0e5",
    "execution": {
     "iopub.execute_input": "2022-06-24T16:46:52.804933Z",
     "iopub.status.busy": "2022-06-24T16:46:52.804429Z",
     "iopub.status.idle": "2022-06-24T16:46:54.009893Z",
     "shell.execute_reply": "2022-06-24T16:46:54.008541Z"
    },
    "papermill": {
     "duration": 1.219191,
     "end_time": "2022-06-24T16:46:54.012874",
     "exception": false,
     "start_time": "2022-06-24T16:46:52.793683",
     "status": "completed"
    },
    "tags": []
   },
   "outputs": [],
   "source": [
    "import numpy as np\n",
    "import pandas as pd\n",
    "import difflib # Will compare the movies and find the most similar ones\n",
    "from sklearn.feature_extraction.text import TfidfVectorizer\n",
    "from sklearn.metrics.pairwise import cosine_similarity"
   ]
  },
  {
   "cell_type": "code",
   "execution_count": 2,
   "id": "6a6dc297",
   "metadata": {
    "execution": {
     "iopub.execute_input": "2022-06-24T16:46:54.033455Z",
     "iopub.status.busy": "2022-06-24T16:46:54.033033Z",
     "iopub.status.idle": "2022-06-24T16:46:54.641196Z",
     "shell.execute_reply": "2022-06-24T16:46:54.639934Z"
    },
    "papermill": {
     "duration": 0.625779,
     "end_time": "2022-06-24T16:46:54.647957",
     "exception": false,
     "start_time": "2022-06-24T16:46:54.022178",
     "status": "completed"
    },
    "tags": []
   },
   "outputs": [
    {
     "data": {
      "text/html": [
       "<div>\n",
       "<style scoped>\n",
       "    .dataframe tbody tr th:only-of-type {\n",
       "        vertical-align: middle;\n",
       "    }\n",
       "\n",
       "    .dataframe tbody tr th {\n",
       "        vertical-align: top;\n",
       "    }\n",
       "\n",
       "    .dataframe thead th {\n",
       "        text-align: right;\n",
       "    }\n",
       "</style>\n",
       "<table border=\"1\" class=\"dataframe\">\n",
       "  <thead>\n",
       "    <tr style=\"text-align: right;\">\n",
       "      <th></th>\n",
       "      <th>index</th>\n",
       "      <th>budget</th>\n",
       "      <th>genres</th>\n",
       "      <th>homepage</th>\n",
       "      <th>id</th>\n",
       "      <th>keywords</th>\n",
       "      <th>original_language</th>\n",
       "      <th>original_title</th>\n",
       "      <th>overview</th>\n",
       "      <th>popularity</th>\n",
       "      <th>...</th>\n",
       "      <th>runtime</th>\n",
       "      <th>spoken_languages</th>\n",
       "      <th>status</th>\n",
       "      <th>tagline</th>\n",
       "      <th>title</th>\n",
       "      <th>vote_average</th>\n",
       "      <th>vote_count</th>\n",
       "      <th>cast</th>\n",
       "      <th>crew</th>\n",
       "      <th>director</th>\n",
       "    </tr>\n",
       "  </thead>\n",
       "  <tbody>\n",
       "    <tr>\n",
       "      <th>0</th>\n",
       "      <td>0</td>\n",
       "      <td>237000000</td>\n",
       "      <td>Action Adventure Fantasy Science Fiction</td>\n",
       "      <td>http://www.avatarmovie.com/</td>\n",
       "      <td>19995</td>\n",
       "      <td>culture clash future space war space colony so...</td>\n",
       "      <td>en</td>\n",
       "      <td>Avatar</td>\n",
       "      <td>In the 22nd century, a paraplegic Marine is di...</td>\n",
       "      <td>150.437577</td>\n",
       "      <td>...</td>\n",
       "      <td>162.0</td>\n",
       "      <td>[{\"iso_639_1\": \"en\", \"name\": \"English\"}, {\"iso...</td>\n",
       "      <td>Released</td>\n",
       "      <td>Enter the World of Pandora.</td>\n",
       "      <td>Avatar</td>\n",
       "      <td>7.2</td>\n",
       "      <td>11800</td>\n",
       "      <td>Sam Worthington Zoe Saldana Sigourney Weaver S...</td>\n",
       "      <td>[{'name': 'Stephen E. Rivkin', 'gender': 0, 'd...</td>\n",
       "      <td>James Cameron</td>\n",
       "    </tr>\n",
       "    <tr>\n",
       "      <th>1</th>\n",
       "      <td>1</td>\n",
       "      <td>300000000</td>\n",
       "      <td>Adventure Fantasy Action</td>\n",
       "      <td>http://disney.go.com/disneypictures/pirates/</td>\n",
       "      <td>285</td>\n",
       "      <td>ocean drug abuse exotic island east india trad...</td>\n",
       "      <td>en</td>\n",
       "      <td>Pirates of the Caribbean: At World's End</td>\n",
       "      <td>Captain Barbossa, long believed to be dead, ha...</td>\n",
       "      <td>139.082615</td>\n",
       "      <td>...</td>\n",
       "      <td>169.0</td>\n",
       "      <td>[{\"iso_639_1\": \"en\", \"name\": \"English\"}]</td>\n",
       "      <td>Released</td>\n",
       "      <td>At the end of the world, the adventure begins.</td>\n",
       "      <td>Pirates of the Caribbean: At World's End</td>\n",
       "      <td>6.9</td>\n",
       "      <td>4500</td>\n",
       "      <td>Johnny Depp Orlando Bloom Keira Knightley Stel...</td>\n",
       "      <td>[{'name': 'Dariusz Wolski', 'gender': 2, 'depa...</td>\n",
       "      <td>Gore Verbinski</td>\n",
       "    </tr>\n",
       "    <tr>\n",
       "      <th>2</th>\n",
       "      <td>2</td>\n",
       "      <td>245000000</td>\n",
       "      <td>Action Adventure Crime</td>\n",
       "      <td>http://www.sonypictures.com/movies/spectre/</td>\n",
       "      <td>206647</td>\n",
       "      <td>spy based on novel secret agent sequel mi6</td>\n",
       "      <td>en</td>\n",
       "      <td>Spectre</td>\n",
       "      <td>A cryptic message from Bond’s past sends him o...</td>\n",
       "      <td>107.376788</td>\n",
       "      <td>...</td>\n",
       "      <td>148.0</td>\n",
       "      <td>[{\"iso_639_1\": \"fr\", \"name\": \"Fran\\u00e7ais\"},...</td>\n",
       "      <td>Released</td>\n",
       "      <td>A Plan No One Escapes</td>\n",
       "      <td>Spectre</td>\n",
       "      <td>6.3</td>\n",
       "      <td>4466</td>\n",
       "      <td>Daniel Craig Christoph Waltz L\\u00e9a Seydoux ...</td>\n",
       "      <td>[{'name': 'Thomas Newman', 'gender': 2, 'depar...</td>\n",
       "      <td>Sam Mendes</td>\n",
       "    </tr>\n",
       "    <tr>\n",
       "      <th>3</th>\n",
       "      <td>3</td>\n",
       "      <td>250000000</td>\n",
       "      <td>Action Crime Drama Thriller</td>\n",
       "      <td>http://www.thedarkknightrises.com/</td>\n",
       "      <td>49026</td>\n",
       "      <td>dc comics crime fighter terrorist secret ident...</td>\n",
       "      <td>en</td>\n",
       "      <td>The Dark Knight Rises</td>\n",
       "      <td>Following the death of District Attorney Harve...</td>\n",
       "      <td>112.312950</td>\n",
       "      <td>...</td>\n",
       "      <td>165.0</td>\n",
       "      <td>[{\"iso_639_1\": \"en\", \"name\": \"English\"}]</td>\n",
       "      <td>Released</td>\n",
       "      <td>The Legend Ends</td>\n",
       "      <td>The Dark Knight Rises</td>\n",
       "      <td>7.6</td>\n",
       "      <td>9106</td>\n",
       "      <td>Christian Bale Michael Caine Gary Oldman Anne ...</td>\n",
       "      <td>[{'name': 'Hans Zimmer', 'gender': 2, 'departm...</td>\n",
       "      <td>Christopher Nolan</td>\n",
       "    </tr>\n",
       "    <tr>\n",
       "      <th>4</th>\n",
       "      <td>4</td>\n",
       "      <td>260000000</td>\n",
       "      <td>Action Adventure Science Fiction</td>\n",
       "      <td>http://movies.disney.com/john-carter</td>\n",
       "      <td>49529</td>\n",
       "      <td>based on novel mars medallion space travel pri...</td>\n",
       "      <td>en</td>\n",
       "      <td>John Carter</td>\n",
       "      <td>John Carter is a war-weary, former military ca...</td>\n",
       "      <td>43.926995</td>\n",
       "      <td>...</td>\n",
       "      <td>132.0</td>\n",
       "      <td>[{\"iso_639_1\": \"en\", \"name\": \"English\"}]</td>\n",
       "      <td>Released</td>\n",
       "      <td>Lost in our world, found in another.</td>\n",
       "      <td>John Carter</td>\n",
       "      <td>6.1</td>\n",
       "      <td>2124</td>\n",
       "      <td>Taylor Kitsch Lynn Collins Samantha Morton Wil...</td>\n",
       "      <td>[{'name': 'Andrew Stanton', 'gender': 2, 'depa...</td>\n",
       "      <td>Andrew Stanton</td>\n",
       "    </tr>\n",
       "  </tbody>\n",
       "</table>\n",
       "<p>5 rows × 24 columns</p>\n",
       "</div>"
      ],
      "text/plain": [
       "   index     budget                                    genres  \\\n",
       "0      0  237000000  Action Adventure Fantasy Science Fiction   \n",
       "1      1  300000000                  Adventure Fantasy Action   \n",
       "2      2  245000000                    Action Adventure Crime   \n",
       "3      3  250000000               Action Crime Drama Thriller   \n",
       "4      4  260000000          Action Adventure Science Fiction   \n",
       "\n",
       "                                       homepage      id  \\\n",
       "0                   http://www.avatarmovie.com/   19995   \n",
       "1  http://disney.go.com/disneypictures/pirates/     285   \n",
       "2   http://www.sonypictures.com/movies/spectre/  206647   \n",
       "3            http://www.thedarkknightrises.com/   49026   \n",
       "4          http://movies.disney.com/john-carter   49529   \n",
       "\n",
       "                                            keywords original_language  \\\n",
       "0  culture clash future space war space colony so...                en   \n",
       "1  ocean drug abuse exotic island east india trad...                en   \n",
       "2         spy based on novel secret agent sequel mi6                en   \n",
       "3  dc comics crime fighter terrorist secret ident...                en   \n",
       "4  based on novel mars medallion space travel pri...                en   \n",
       "\n",
       "                             original_title  \\\n",
       "0                                    Avatar   \n",
       "1  Pirates of the Caribbean: At World's End   \n",
       "2                                   Spectre   \n",
       "3                     The Dark Knight Rises   \n",
       "4                               John Carter   \n",
       "\n",
       "                                            overview  popularity  ... runtime  \\\n",
       "0  In the 22nd century, a paraplegic Marine is di...  150.437577  ...   162.0   \n",
       "1  Captain Barbossa, long believed to be dead, ha...  139.082615  ...   169.0   \n",
       "2  A cryptic message from Bond’s past sends him o...  107.376788  ...   148.0   \n",
       "3  Following the death of District Attorney Harve...  112.312950  ...   165.0   \n",
       "4  John Carter is a war-weary, former military ca...   43.926995  ...   132.0   \n",
       "\n",
       "                                    spoken_languages    status  \\\n",
       "0  [{\"iso_639_1\": \"en\", \"name\": \"English\"}, {\"iso...  Released   \n",
       "1           [{\"iso_639_1\": \"en\", \"name\": \"English\"}]  Released   \n",
       "2  [{\"iso_639_1\": \"fr\", \"name\": \"Fran\\u00e7ais\"},...  Released   \n",
       "3           [{\"iso_639_1\": \"en\", \"name\": \"English\"}]  Released   \n",
       "4           [{\"iso_639_1\": \"en\", \"name\": \"English\"}]  Released   \n",
       "\n",
       "                                          tagline  \\\n",
       "0                     Enter the World of Pandora.   \n",
       "1  At the end of the world, the adventure begins.   \n",
       "2                           A Plan No One Escapes   \n",
       "3                                 The Legend Ends   \n",
       "4            Lost in our world, found in another.   \n",
       "\n",
       "                                      title vote_average vote_count  \\\n",
       "0                                    Avatar          7.2      11800   \n",
       "1  Pirates of the Caribbean: At World's End          6.9       4500   \n",
       "2                                   Spectre          6.3       4466   \n",
       "3                     The Dark Knight Rises          7.6       9106   \n",
       "4                               John Carter          6.1       2124   \n",
       "\n",
       "                                                cast  \\\n",
       "0  Sam Worthington Zoe Saldana Sigourney Weaver S...   \n",
       "1  Johnny Depp Orlando Bloom Keira Knightley Stel...   \n",
       "2  Daniel Craig Christoph Waltz L\\u00e9a Seydoux ...   \n",
       "3  Christian Bale Michael Caine Gary Oldman Anne ...   \n",
       "4  Taylor Kitsch Lynn Collins Samantha Morton Wil...   \n",
       "\n",
       "                                                crew           director  \n",
       "0  [{'name': 'Stephen E. Rivkin', 'gender': 0, 'd...      James Cameron  \n",
       "1  [{'name': 'Dariusz Wolski', 'gender': 2, 'depa...     Gore Verbinski  \n",
       "2  [{'name': 'Thomas Newman', 'gender': 2, 'depar...         Sam Mendes  \n",
       "3  [{'name': 'Hans Zimmer', 'gender': 2, 'departm...  Christopher Nolan  \n",
       "4  [{'name': 'Andrew Stanton', 'gender': 2, 'depa...     Andrew Stanton  \n",
       "\n",
       "[5 rows x 24 columns]"
      ]
     },
     "execution_count": 2,
     "metadata": {},
     "output_type": "execute_result"
    }
   ],
   "source": [
    "movie_data = pd.read_csv(\"../input/azmovies/movies (1).csv\")\n",
    "movie_data.head()"
   ]
  },
  {
   "cell_type": "code",
   "execution_count": 3,
   "id": "7142452f",
   "metadata": {
    "execution": {
     "iopub.execute_input": "2022-06-24T16:46:54.669790Z",
     "iopub.status.busy": "2022-06-24T16:46:54.669360Z",
     "iopub.status.idle": "2022-06-24T16:46:54.677068Z",
     "shell.execute_reply": "2022-06-24T16:46:54.675787Z"
    },
    "papermill": {
     "duration": 0.021211,
     "end_time": "2022-06-24T16:46:54.679481",
     "exception": false,
     "start_time": "2022-06-24T16:46:54.658270",
     "status": "completed"
    },
    "tags": []
   },
   "outputs": [
    {
     "data": {
      "text/plain": [
       "(4803, 24)"
      ]
     },
     "execution_count": 3,
     "metadata": {},
     "output_type": "execute_result"
    }
   ],
   "source": [
    "movie_data.shape"
   ]
  },
  {
   "cell_type": "markdown",
   "id": "078bc28d",
   "metadata": {
    "papermill": {
     "duration": 0.009452,
     "end_time": "2022-06-24T16:46:54.698856",
     "exception": false,
     "start_time": "2022-06-24T16:46:54.689404",
     "status": "completed"
    },
    "tags": []
   },
   "source": [
    "Total 4803 rows and 24 columns in this dataset"
   ]
  },
  {
   "cell_type": "markdown",
   "id": "a9280a9f",
   "metadata": {
    "papermill": {
     "duration": 0.009818,
     "end_time": "2022-06-24T16:46:54.718440",
     "exception": false,
     "start_time": "2022-06-24T16:46:54.708622",
     "status": "completed"
    },
    "tags": []
   },
   "source": [
    "# Feature Selection"
   ]
  },
  {
   "cell_type": "code",
   "execution_count": 4,
   "id": "dff45ba0",
   "metadata": {
    "execution": {
     "iopub.execute_input": "2022-06-24T16:46:54.740311Z",
     "iopub.status.busy": "2022-06-24T16:46:54.739699Z",
     "iopub.status.idle": "2022-06-24T16:46:54.745015Z",
     "shell.execute_reply": "2022-06-24T16:46:54.744263Z"
    },
    "papermill": {
     "duration": 0.019111,
     "end_time": "2022-06-24T16:46:54.747187",
     "exception": false,
     "start_time": "2022-06-24T16:46:54.728076",
     "status": "completed"
    },
    "tags": []
   },
   "outputs": [],
   "source": [
    "# Choosing columns that we need for the system\n",
    "features = [\"genres\",\"keywords\",\"popularity\",\"tagline\",\"vote_average\",\"cast\",\"director\"]"
   ]
  },
  {
   "cell_type": "markdown",
   "id": "3c5cc507",
   "metadata": {
    "papermill": {
     "duration": 0.009215,
     "end_time": "2022-06-24T16:46:54.765958",
     "exception": false,
     "start_time": "2022-06-24T16:46:54.756743",
     "status": "completed"
    },
    "tags": []
   },
   "source": [
    "# Data Cleaning"
   ]
  },
  {
   "cell_type": "code",
   "execution_count": 5,
   "id": "3ca32576",
   "metadata": {
    "execution": {
     "iopub.execute_input": "2022-06-24T16:46:54.787263Z",
     "iopub.status.busy": "2022-06-24T16:46:54.786648Z",
     "iopub.status.idle": "2022-06-24T16:46:54.819713Z",
     "shell.execute_reply": "2022-06-24T16:46:54.818558Z"
    },
    "papermill": {
     "duration": 0.04643,
     "end_time": "2022-06-24T16:46:54.822095",
     "exception": false,
     "start_time": "2022-06-24T16:46:54.775665",
     "status": "completed"
    },
    "tags": []
   },
   "outputs": [
    {
     "name": "stdout",
     "output_type": "stream",
     "text": [
      "<class 'pandas.core.frame.DataFrame'>\n",
      "RangeIndex: 4803 entries, 0 to 4802\n",
      "Data columns (total 24 columns):\n",
      " #   Column                Non-Null Count  Dtype  \n",
      "---  ------                --------------  -----  \n",
      " 0   index                 4803 non-null   int64  \n",
      " 1   budget                4803 non-null   int64  \n",
      " 2   genres                4775 non-null   object \n",
      " 3   homepage              1712 non-null   object \n",
      " 4   id                    4803 non-null   int64  \n",
      " 5   keywords              4391 non-null   object \n",
      " 6   original_language     4803 non-null   object \n",
      " 7   original_title        4803 non-null   object \n",
      " 8   overview              4800 non-null   object \n",
      " 9   popularity            4803 non-null   float64\n",
      " 10  production_companies  4803 non-null   object \n",
      " 11  production_countries  4803 non-null   object \n",
      " 12  release_date          4802 non-null   object \n",
      " 13  revenue               4803 non-null   int64  \n",
      " 14  runtime               4801 non-null   float64\n",
      " 15  spoken_languages      4803 non-null   object \n",
      " 16  status                4803 non-null   object \n",
      " 17  tagline               3959 non-null   object \n",
      " 18  title                 4803 non-null   object \n",
      " 19  vote_average          4803 non-null   float64\n",
      " 20  vote_count            4803 non-null   int64  \n",
      " 21  cast                  4760 non-null   object \n",
      " 22  crew                  4803 non-null   object \n",
      " 23  director              4773 non-null   object \n",
      "dtypes: float64(3), int64(5), object(16)\n",
      "memory usage: 900.7+ KB\n"
     ]
    }
   ],
   "source": [
    "# Checking for missing values\n",
    "movie_data.info()"
   ]
  },
  {
   "cell_type": "markdown",
   "id": "eb18ba64",
   "metadata": {
    "papermill": {
     "duration": 0.009658,
     "end_time": "2022-06-24T16:46:54.841816",
     "exception": false,
     "start_time": "2022-06-24T16:46:54.832158",
     "status": "completed"
    },
    "tags": []
   },
   "source": [
    "**Except for popularity and vote_average columns, we have missing values in the rest of the selected columns.**"
   ]
  },
  {
   "cell_type": "code",
   "execution_count": 6,
   "id": "09f856d5",
   "metadata": {
    "execution": {
     "iopub.execute_input": "2022-06-24T16:46:54.863422Z",
     "iopub.status.busy": "2022-06-24T16:46:54.862817Z",
     "iopub.status.idle": "2022-06-24T16:46:54.874286Z",
     "shell.execute_reply": "2022-06-24T16:46:54.873135Z"
    },
    "papermill": {
     "duration": 0.025591,
     "end_time": "2022-06-24T16:46:54.877281",
     "exception": false,
     "start_time": "2022-06-24T16:46:54.851690",
     "status": "completed"
    },
    "tags": []
   },
   "outputs": [],
   "source": [
    "# Replacing null values with empty string in the feature columns\n",
    "for feature in features:\n",
    "    movie_data[feature] = movie_data[feature].fillna('')"
   ]
  },
  {
   "cell_type": "code",
   "execution_count": 7,
   "id": "8c152eae",
   "metadata": {
    "execution": {
     "iopub.execute_input": "2022-06-24T16:46:54.903193Z",
     "iopub.status.busy": "2022-06-24T16:46:54.902768Z",
     "iopub.status.idle": "2022-06-24T16:46:54.926123Z",
     "shell.execute_reply": "2022-06-24T16:46:54.924807Z"
    },
    "papermill": {
     "duration": 0.039411,
     "end_time": "2022-06-24T16:46:54.928780",
     "exception": false,
     "start_time": "2022-06-24T16:46:54.889369",
     "status": "completed"
    },
    "tags": []
   },
   "outputs": [
    {
     "name": "stdout",
     "output_type": "stream",
     "text": [
      "<class 'pandas.core.frame.DataFrame'>\n",
      "RangeIndex: 4803 entries, 0 to 4802\n",
      "Data columns (total 24 columns):\n",
      " #   Column                Non-Null Count  Dtype  \n",
      "---  ------                --------------  -----  \n",
      " 0   index                 4803 non-null   int64  \n",
      " 1   budget                4803 non-null   int64  \n",
      " 2   genres                4803 non-null   object \n",
      " 3   homepage              1712 non-null   object \n",
      " 4   id                    4803 non-null   int64  \n",
      " 5   keywords              4803 non-null   object \n",
      " 6   original_language     4803 non-null   object \n",
      " 7   original_title        4803 non-null   object \n",
      " 8   overview              4800 non-null   object \n",
      " 9   popularity            4803 non-null   float64\n",
      " 10  production_companies  4803 non-null   object \n",
      " 11  production_countries  4803 non-null   object \n",
      " 12  release_date          4802 non-null   object \n",
      " 13  revenue               4803 non-null   int64  \n",
      " 14  runtime               4801 non-null   float64\n",
      " 15  spoken_languages      4803 non-null   object \n",
      " 16  status                4803 non-null   object \n",
      " 17  tagline               4803 non-null   object \n",
      " 18  title                 4803 non-null   object \n",
      " 19  vote_average          4803 non-null   float64\n",
      " 20  vote_count            4803 non-null   int64  \n",
      " 21  cast                  4803 non-null   object \n",
      " 22  crew                  4803 non-null   object \n",
      " 23  director              4803 non-null   object \n",
      "dtypes: float64(3), int64(5), object(16)\n",
      "memory usage: 900.7+ KB\n"
     ]
    }
   ],
   "source": [
    "movie_data.info()"
   ]
  },
  {
   "cell_type": "markdown",
   "id": "e075efa2",
   "metadata": {
    "papermill": {
     "duration": 0.00953,
     "end_time": "2022-06-24T16:46:54.948273",
     "exception": false,
     "start_time": "2022-06-24T16:46:54.938743",
     "status": "completed"
    },
    "tags": []
   },
   "source": [
    "**No more missing values.**"
   ]
  },
  {
   "cell_type": "code",
   "execution_count": 8,
   "id": "6853c5d7",
   "metadata": {
    "execution": {
     "iopub.execute_input": "2022-06-24T16:46:54.970894Z",
     "iopub.status.busy": "2022-06-24T16:46:54.970106Z",
     "iopub.status.idle": "2022-06-24T16:46:54.993511Z",
     "shell.execute_reply": "2022-06-24T16:46:54.992687Z"
    },
    "papermill": {
     "duration": 0.037242,
     "end_time": "2022-06-24T16:46:54.995837",
     "exception": false,
     "start_time": "2022-06-24T16:46:54.958595",
     "status": "completed"
    },
    "tags": []
   },
   "outputs": [
    {
     "data": {
      "text/plain": [
       "0       Action Adventure Fantasy Science Fictioncultur...\n",
       "1       Adventure Fantasy Actionocean drug abuse exoti...\n",
       "2       Action Adventure Crimespy based on novel secre...\n",
       "3       Action Crime Drama Thrillerdc comics crime fig...\n",
       "4       Action Adventure Science Fictionbased on novel...\n",
       "                              ...                        \n",
       "4798    Action Crime Thrillerunited states\\u2013mexico...\n",
       "4799    Comedy Romance0       150.437577\\n1       139....\n",
       "4800    Comedy Drama Romance TV Moviedate love at firs...\n",
       "4801    0       150.437577\\n1       139.082615\\n2     ...\n",
       "4802    Documentaryobsession camcorder crush dream gir...\n",
       "Length: 4803, dtype: object"
      ]
     },
     "execution_count": 8,
     "metadata": {},
     "output_type": "execute_result"
    }
   ],
   "source": [
    "# Now, let's combine all our features\n",
    "data = movie_data['genres'] + movie_data['keywords'] + str(movie_data['popularity']) + movie_data['tagline'] + str(movie_data['vote_average']) + movie_data['cast'] + movie_data['director']\n",
    "data"
   ]
  },
  {
   "cell_type": "markdown",
   "id": "dc9b132c",
   "metadata": {
    "papermill": {
     "duration": 0.010009,
     "end_time": "2022-06-24T16:46:55.016100",
     "exception": false,
     "start_time": "2022-06-24T16:46:55.006091",
     "status": "completed"
    },
    "tags": []
   },
   "source": [
    "# Vectorize Features"
   ]
  },
  {
   "cell_type": "markdown",
   "id": "21f8a953",
   "metadata": {
    "papermill": {
     "duration": 0.010119,
     "end_time": "2022-06-24T16:46:55.037022",
     "exception": false,
     "start_time": "2022-06-24T16:46:55.026903",
     "status": "completed"
    },
    "tags": []
   },
   "source": [
    "**Now, to use the cosine similarity, we will have to convert all features to feature vectors (numeric values). Text data cannot be used.**"
   ]
  },
  {
   "cell_type": "code",
   "execution_count": 9,
   "id": "e02b1937",
   "metadata": {
    "execution": {
     "iopub.execute_input": "2022-06-24T16:46:55.059997Z",
     "iopub.status.busy": "2022-06-24T16:46:55.059284Z",
     "iopub.status.idle": "2022-06-24T16:46:55.570984Z",
     "shell.execute_reply": "2022-06-24T16:46:55.569276Z"
    },
    "papermill": {
     "duration": 0.526082,
     "end_time": "2022-06-24T16:46:55.573491",
     "exception": false,
     "start_time": "2022-06-24T16:46:55.047409",
     "status": "completed"
    },
    "tags": []
   },
   "outputs": [
    {
     "name": "stdout",
     "output_type": "stream",
     "text": [
      "  (0, 3257)\t0.16388540179242558\n",
      "  (0, 20291)\t0.2567923468827883\n",
      "  (0, 16596)\t0.14931969761581868\n",
      "  (0, 14694)\t0.20974218104576342\n",
      "  (0, 22571)\t0.15547532948542722\n",
      "  (0, 25526)\t0.1841488052718978\n",
      "  (0, 21868)\t0.20207224730210313\n",
      "  (0, 20968)\t0.20207224730210313\n",
      "  (0, 26432)\t0.1866924881846971\n",
      "  (0, 26092)\t0.220169184866525\n",
      "  (0, 9945)\t0.1925588775788962\n",
      "  (0, 25218)\t0.029233911711366724\n",
      "  (0, 18327)\t0.24493901571031446\n",
      "  (0, 17961)\t0.08149259594265924\n",
      "  (0, 26082)\t0.11833473959491154\n",
      "  (0, 23370)\t0.07050023310419197\n",
      "  (0, 9038)\t0.24493901571031446\n",
      "  (0, 6792)\t0.05846782342273345\n",
      "  (0, 105)\t0.05846782342273345\n",
      "  (0, 14964)\t0.05846782342273345\n",
      "  (0, 19084)\t0.029233911711366724\n",
      "  (0, 17472)\t0.05846782342273345\n",
      "  (0, 134)\t0.029233911711366724\n",
      "  (0, 104)\t0.05846782342273345\n",
      "  (0, 129)\t0.029233911711366724\n",
      "  :\t:\n",
      "  (4802, 105)\t0.06173234448817456\n",
      "  (4802, 14964)\t0.06173234448817456\n",
      "  (4802, 19084)\t0.03086617224408728\n",
      "  (4802, 17472)\t0.06173234448817456\n",
      "  (4802, 134)\t0.03086617224408728\n",
      "  (4802, 104)\t0.06173234448817456\n",
      "  (4802, 129)\t0.03086617224408728\n",
      "  (4802, 103)\t0.06173234448817456\n",
      "  (4802, 98)\t0.03086617224408728\n",
      "  (4802, 102)\t0.06173234448817456\n",
      "  (4802, 118)\t0.03086617224408728\n",
      "  (4802, 101)\t0.06173234448817456\n",
      "  (4802, 80)\t0.03086617224408728\n",
      "  (4802, 21)\t0.03086617224408728\n",
      "  (4802, 100)\t0.06173234448817456\n",
      "  (4802, 133)\t0.03086617224408728\n",
      "  (4802, 96)\t0.03086617224408728\n",
      "  (4802, 87)\t0.03086617224408728\n",
      "  (4802, 13)\t0.03086617224408728\n",
      "  (4802, 89)\t0.03086617224408728\n",
      "  (4802, 11)\t0.03086617224408728\n",
      "  (4802, 6)\t0.03086617224408728\n",
      "  (4802, 20)\t0.03086617224408728\n",
      "  (4802, 97)\t0.03086617224408728\n",
      "  (4802, 24)\t0.03086617224408728\n"
     ]
    }
   ],
   "source": [
    "vectorizer = TfidfVectorizer()\n",
    "vectors = vectorizer.fit_transform(data)\n",
    "print(vectors)"
   ]
  },
  {
   "cell_type": "markdown",
   "id": "0e9e4bd1",
   "metadata": {
    "papermill": {
     "duration": 0.009953,
     "end_time": "2022-06-24T16:46:55.593979",
     "exception": false,
     "start_time": "2022-06-24T16:46:55.584026",
     "status": "completed"
    },
    "tags": []
   },
   "source": [
    "# Cosine Similarity"
   ]
  },
  {
   "cell_type": "code",
   "execution_count": 10,
   "id": "20ee76ba",
   "metadata": {
    "execution": {
     "iopub.execute_input": "2022-06-24T16:46:55.616353Z",
     "iopub.status.busy": "2022-06-24T16:46:55.615980Z",
     "iopub.status.idle": "2022-06-24T16:46:58.281134Z",
     "shell.execute_reply": "2022-06-24T16:46:58.279817Z"
    },
    "papermill": {
     "duration": 2.67969,
     "end_time": "2022-06-24T16:46:58.283903",
     "exception": false,
     "start_time": "2022-06-24T16:46:55.604213",
     "status": "completed"
    },
    "tags": []
   },
   "outputs": [
    {
     "name": "stdout",
     "output_type": "stream",
     "text": [
      "[[1.         0.1041583  0.06144267 ... 0.04865892 0.05298896 0.0487263 ]\n",
      " [0.1041583  1.         0.06931347 ... 0.05551766 0.0479129  0.04405859]\n",
      " [0.06144267 0.06931347 1.         ... 0.05078047 0.11104573 0.05085079]\n",
      " ...\n",
      " [0.04865892 0.05551766 0.05078047 ... 1.         0.05587021 0.05850741]\n",
      " [0.05298896 0.0479129  0.11104573 ... 0.05587021 1.         0.05594757]\n",
      " [0.0487263  0.04405859 0.05085079 ... 0.05850741 0.05594757 1.        ]]\n"
     ]
    }
   ],
   "source": [
    "# Now, we will find the similarity scores\n",
    "similarity = cosine_similarity(vectors)\n",
    "print(similarity)"
   ]
  },
  {
   "cell_type": "markdown",
   "id": "72725798",
   "metadata": {
    "papermill": {
     "duration": 0.011663,
     "end_time": "2022-06-24T16:46:58.306145",
     "exception": false,
     "start_time": "2022-06-24T16:46:58.294482",
     "status": "completed"
    },
    "tags": []
   },
   "source": [
    "**Basically, a comparison of each movie with every other and finding a similarity score for each.**"
   ]
  },
  {
   "cell_type": "markdown",
   "id": "2365a2c2",
   "metadata": {
    "papermill": {
     "duration": 0.011564,
     "end_time": "2022-06-24T16:46:58.327875",
     "exception": false,
     "start_time": "2022-06-24T16:46:58.316311",
     "status": "completed"
    },
    "tags": []
   },
   "source": [
    "# Input"
   ]
  },
  {
   "cell_type": "code",
   "execution_count": 11,
   "id": "ea5d2010",
   "metadata": {
    "execution": {
     "iopub.execute_input": "2022-06-24T16:46:58.354558Z",
     "iopub.status.busy": "2022-06-24T16:46:58.354145Z",
     "iopub.status.idle": "2022-06-24T16:46:58.470315Z",
     "shell.execute_reply": "2022-06-24T16:46:58.468553Z"
    },
    "papermill": {
     "duration": 0.132013,
     "end_time": "2022-06-24T16:46:58.472438",
     "exception": true,
     "start_time": "2022-06-24T16:46:58.340425",
     "status": "failed"
    },
    "tags": []
   },
   "outputs": [
    {
     "ename": "StdinNotImplementedError",
     "evalue": "raw_input was called, but this frontend does not support input requests.",
     "output_type": "error",
     "traceback": [
      "\u001b[0;31m---------------------------------------------------------------------------\u001b[0m",
      "\u001b[0;31mStdinNotImplementedError\u001b[0m                  Traceback (most recent call last)",
      "\u001b[0;32m/tmp/ipykernel_19/3858037561.py\u001b[0m in \u001b[0;36m<module>\u001b[0;34m\u001b[0m\n\u001b[1;32m      1\u001b[0m \u001b[0;31m# Taking user input\u001b[0m\u001b[0;34m\u001b[0m\u001b[0;34m\u001b[0m\u001b[0;34m\u001b[0m\u001b[0m\n\u001b[0;32m----> 2\u001b[0;31m \u001b[0muser_movie\u001b[0m \u001b[0;34m=\u001b[0m \u001b[0minput\u001b[0m\u001b[0;34m(\u001b[0m\u001b[0;34m\"Movie Name: \"\u001b[0m\u001b[0;34m)\u001b[0m\u001b[0;34m\u001b[0m\u001b[0;34m\u001b[0m\u001b[0m\n\u001b[0m",
      "\u001b[0;32m/opt/conda/lib/python3.7/site-packages/ipykernel/kernelbase.py\u001b[0m in \u001b[0;36mraw_input\u001b[0;34m(self, prompt)\u001b[0m\n\u001b[1;32m   1157\u001b[0m         \u001b[0;32mif\u001b[0m \u001b[0;32mnot\u001b[0m \u001b[0mself\u001b[0m\u001b[0;34m.\u001b[0m\u001b[0m_allow_stdin\u001b[0m\u001b[0;34m:\u001b[0m\u001b[0;34m\u001b[0m\u001b[0;34m\u001b[0m\u001b[0m\n\u001b[1;32m   1158\u001b[0m             raise StdinNotImplementedError(\n\u001b[0;32m-> 1159\u001b[0;31m                 \u001b[0;34m\"raw_input was called, but this frontend does not support input requests.\"\u001b[0m\u001b[0;34m\u001b[0m\u001b[0;34m\u001b[0m\u001b[0m\n\u001b[0m\u001b[1;32m   1160\u001b[0m             )\n\u001b[1;32m   1161\u001b[0m         return self._input_request(\n",
      "\u001b[0;31mStdinNotImplementedError\u001b[0m: raw_input was called, but this frontend does not support input requests."
     ]
    }
   ],
   "source": [
    "# Taking user input\n",
    "user_movie = input(\"Movie Name: \")"
   ]
  },
  {
   "cell_type": "code",
   "execution_count": null,
   "id": "ef48681f",
   "metadata": {
    "execution": {
     "iopub.execute_input": "2022-06-24T15:38:26.032577Z",
     "iopub.status.busy": "2022-06-24T15:38:26.032134Z",
     "iopub.status.idle": "2022-06-24T15:38:26.038952Z",
     "shell.execute_reply": "2022-06-24T15:38:26.037663Z",
     "shell.execute_reply.started": "2022-06-24T15:38:26.032542Z"
    },
    "papermill": {
     "duration": null,
     "end_time": null,
     "exception": null,
     "start_time": null,
     "status": "pending"
    },
    "tags": []
   },
   "outputs": [],
   "source": [
    "# Listing all movie titles\n",
    "titles = list(movie_data['title'])\n",
    "# print(titles)"
   ]
  },
  {
   "cell_type": "code",
   "execution_count": null,
   "id": "5ee2c40c",
   "metadata": {
    "execution": {
     "iopub.execute_input": "2022-06-24T15:41:09.576459Z",
     "iopub.status.busy": "2022-06-24T15:41:09.576066Z",
     "iopub.status.idle": "2022-06-24T15:41:09.631846Z",
     "shell.execute_reply": "2022-06-24T15:41:09.630666Z",
     "shell.execute_reply.started": "2022-06-24T15:41:09.576428Z"
    },
    "papermill": {
     "duration": null,
     "end_time": null,
     "exception": null,
     "start_time": null,
     "status": "pending"
    },
    "tags": []
   },
   "outputs": [],
   "source": [
    "# Finding the most similar movies to the one input by the user\n",
    "similar = difflib.get_close_matches(user_movie,titles)\n",
    "print(similar[0]) # we mentioned [0] because it returns a list of movies with similar titles and the 0th index gives the most similar movie to the one input by the user"
   ]
  },
  {
   "cell_type": "code",
   "execution_count": null,
   "id": "90f8a844",
   "metadata": {
    "execution": {
     "iopub.execute_input": "2022-06-24T15:49:14.607789Z",
     "iopub.status.busy": "2022-06-24T15:49:14.607413Z",
     "iopub.status.idle": "2022-06-24T15:49:14.616149Z",
     "shell.execute_reply": "2022-06-24T15:49:14.615136Z",
     "shell.execute_reply.started": "2022-06-24T15:49:14.607747Z"
    },
    "papermill": {
     "duration": null,
     "end_time": null,
     "exception": null,
     "start_time": null,
     "status": "pending"
    },
    "tags": []
   },
   "outputs": [],
   "source": [
    "# Now let's find the index number of the movie we found that is most similar so we can use that index and later compare to return a list of similar movies\n",
    "index_val = movie_data[movie_data.title == similar[0]]['index'].values[0]\n",
    "print(index_val)"
   ]
  },
  {
   "cell_type": "markdown",
   "id": "6d99d0f4",
   "metadata": {
    "papermill": {
     "duration": null,
     "end_time": null,
     "exception": null,
     "start_time": null,
     "status": "pending"
    },
    "tags": []
   },
   "source": [
    "# Find similar movies"
   ]
  },
  {
   "cell_type": "markdown",
   "id": "b58693a9",
   "metadata": {
    "papermill": {
     "duration": null,
     "end_time": null,
     "exception": null,
     "start_time": null,
     "status": "pending"
    },
    "tags": []
   },
   "source": [
    "**Now, using the index value and similarity scores, we will find a list of similar movies.**"
   ]
  },
  {
   "cell_type": "code",
   "execution_count": null,
   "id": "e4e789c2",
   "metadata": {
    "execution": {
     "iopub.execute_input": "2022-06-24T16:15:02.993388Z",
     "iopub.status.busy": "2022-06-24T16:15:02.992866Z",
     "iopub.status.idle": "2022-06-24T16:15:03.000839Z",
     "shell.execute_reply": "2022-06-24T16:15:02.999892Z",
     "shell.execute_reply.started": "2022-06-24T16:15:02.993341Z"
    },
    "papermill": {
     "duration": null,
     "end_time": null,
     "exception": null,
     "start_time": null,
     "status": "pending"
    },
    "tags": []
   },
   "outputs": [],
   "source": [
    "score = list(enumerate(similarity[index_val])) # similarity with other movies relative to index of user_input (most similar found)\n",
    "#score"
   ]
  },
  {
   "cell_type": "code",
   "execution_count": null,
   "id": "7d240049",
   "metadata": {
    "execution": {
     "iopub.execute_input": "2022-06-24T16:16:53.237800Z",
     "iopub.status.busy": "2022-06-24T16:16:53.237334Z",
     "iopub.status.idle": "2022-06-24T16:16:53.246917Z",
     "shell.execute_reply": "2022-06-24T16:16:53.245772Z",
     "shell.execute_reply.started": "2022-06-24T16:16:53.237764Z"
    },
    "papermill": {
     "duration": null,
     "end_time": null,
     "exception": null,
     "start_time": null,
     "status": "pending"
    },
    "tags": []
   },
   "outputs": [],
   "source": [
    "# Now we'll sort the movies based on their similarity score (In descending order)\n",
    "\n",
    "sorted_scores = sorted(score, key = lambda x:x[1], reverse = True) \n",
    "#print(sorted_scores)"
   ]
  },
  {
   "cell_type": "code",
   "execution_count": null,
   "id": "5b3a3ba7",
   "metadata": {
    "execution": {
     "iopub.execute_input": "2022-06-24T16:21:34.876439Z",
     "iopub.status.busy": "2022-06-24T16:21:34.876005Z",
     "iopub.status.idle": "2022-06-24T16:21:36.467798Z",
     "shell.execute_reply": "2022-06-24T16:21:36.466455Z",
     "shell.execute_reply.started": "2022-06-24T16:21:34.876403Z"
    },
    "papermill": {
     "duration": null,
     "end_time": null,
     "exception": null,
     "start_time": null,
     "status": "pending"
    },
    "tags": []
   },
   "outputs": [],
   "source": [
    "# Finally, print the top 20 names of similar movies based on the index\n",
    "\n",
    "print('Recommended Movies: \\n')\n",
    "\n",
    "i = 1\n",
    "for movie in sorted_scores:\n",
    "    index = movie[0]\n",
    "    index_title = movie_data[movie_data.index==index]['title'].values[0]\n",
    "    if (i<21):\n",
    "        print(i, '.',index_title)\n",
    "        i+=1"
   ]
  },
  {
   "cell_type": "markdown",
   "id": "8580f7a9",
   "metadata": {
    "papermill": {
     "duration": null,
     "end_time": null,
     "exception": null,
     "start_time": null,
     "status": "pending"
    },
    "tags": []
   },
   "source": [
    "# Workflow\n"
   ]
  },
  {
   "cell_type": "markdown",
   "id": "7f696889",
   "metadata": {
    "papermill": {
     "duration": null,
     "end_time": null,
     "exception": null,
     "start_time": null,
     "status": "pending"
    },
    "tags": []
   },
   "source": [
    "**So basically the workflow is like this: Import libraries and dataset -> Feature selection -> check for missing values -> perform necessary imputation -> Vectorize features -> Find cosine similarity -> Find similar movies.**\n",
    "\n",
    "A larger dataset with more movies would undoubtedly return more similar movies.\n",
    "\n",
    "A special thanks to Siddhardhan S (youtube.com/c/Siddhardhan) for his amazing tutorials."
   ]
  },
  {
   "cell_type": "markdown",
   "id": "1c5f1247",
   "metadata": {
    "papermill": {
     "duration": null,
     "end_time": null,
     "exception": null,
     "start_time": null,
     "status": "pending"
    },
    "tags": []
   },
   "source": [
    "# Movie Recommendation System"
   ]
  },
  {
   "cell_type": "code",
   "execution_count": null,
   "id": "1e564f80",
   "metadata": {
    "execution": {
     "iopub.execute_input": "2022-06-24T16:33:29.457784Z",
     "iopub.status.busy": "2022-06-24T16:33:29.457381Z",
     "iopub.status.idle": "2022-06-24T16:33:33.462767Z",
     "shell.execute_reply": "2022-06-24T16:33:33.461807Z",
     "shell.execute_reply.started": "2022-06-24T16:33:29.457754Z"
    },
    "papermill": {
     "duration": null,
     "end_time": null,
     "exception": null,
     "start_time": null,
     "status": "pending"
    },
    "tags": []
   },
   "outputs": [],
   "source": [
    "user_movie = input(\"Movie Name: \")\n",
    "\n",
    "titles = list(movie_data['title'])\n",
    "similar = difflib.get_close_matches(user_movie,titles)\n",
    "index_val = movie_data[movie_data.title == similar[0]]['index'].values[0]\n",
    "score = list(enumerate(similarity[index_val]))\n",
    "sorted_scores = sorted(score, key = lambda x:x[1], reverse = True) \n",
    "\n",
    "print('Recommended Movies: \\n')\n",
    "\n",
    "i = 1\n",
    "for movie in sorted_scores:\n",
    "    index = movie[0]\n",
    "    index_title = movie_data[movie_data.index==index]['title'].values[0]\n",
    "    if (i<21):\n",
    "        print(i, '.',index_title)\n",
    "        i+=1\n",
    "        \n",
    "# Entire code is broken down above."
   ]
  },
  {
   "cell_type": "markdown",
   "id": "1dbe8f9f",
   "metadata": {
    "papermill": {
     "duration": null,
     "end_time": null,
     "exception": null,
     "start_time": null,
     "status": "pending"
    },
    "tags": []
   },
   "source": [
    "You can also build this by copying all the codes and compiling them together."
   ]
  }
 ],
 "metadata": {
  "kernelspec": {
   "display_name": "Python 3",
   "language": "python",
   "name": "python3"
  },
  "language_info": {
   "codemirror_mode": {
    "name": "ipython",
    "version": 3
   },
   "file_extension": ".py",
   "mimetype": "text/x-python",
   "name": "python",
   "nbconvert_exporter": "python",
   "pygments_lexer": "ipython3",
   "version": "3.7.12"
  },
  "papermill": {
   "default_parameters": {},
   "duration": 16.781164,
   "end_time": "2022-06-24T16:46:59.204980",
   "environment_variables": {},
   "exception": true,
   "input_path": "__notebook__.ipynb",
   "output_path": "__notebook__.ipynb",
   "parameters": {},
   "start_time": "2022-06-24T16:46:42.423816",
   "version": "2.3.4"
  }
 },
 "nbformat": 4,
 "nbformat_minor": 5
}
